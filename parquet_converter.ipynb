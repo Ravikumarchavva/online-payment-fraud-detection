{
 "cells": [
  {
   "cell_type": "code",
   "execution_count": 6,
   "metadata": {},
   "outputs": [],
   "source": [
    "import polars as pl\n",
    "\n",
    "sample_sub = pl.read_csv(\"./ieee-fraud-detection/sample_submission.csv\")\n",
    "test_identity = pl.read_csv(\"./ieee-fraud-detection/test_identity.csv\")\n",
    "test_transaction = pl.read_csv(\"./ieee-fraud-detection/test_transaction.csv\")\n",
    "train_identity = pl.read_csv(\"./ieee-fraud-detection/train_identity.csv\")\n",
    "train_transaction = pl.read_csv(\"./ieee-fraud-detection/train_transaction.csv\")\n",
    "\n",
    "# Convert to parquet\n",
    "sample_sub.write_parquet(\"./ieee-fraud-detection/sample_submission.parquet\")\n",
    "test_identity.write_parquet(\"./ieee-fraud-detection/test_identity.parquet\")\n",
    "test_transaction.write_parquet(\"./ieee-fraud-detection/test_transaction.parquet\")\n",
    "train_identity.write_parquet(\"./ieee-fraud-detection/train_identity.parquet\")\n",
    "train_transaction.write_parquet(\"./ieee-fraud-detection/train_transaction.parquet\")"
   ]
  },
  {
   "cell_type": "code",
   "execution_count": 12,
   "metadata": {},
   "outputs": [],
   "source": [
    "creditcard = pl.read_csv(\"./creditcard/creditcard.csv\",infer_schema_length=280_000)\n",
    "creditcard.write_parquet(\"./creditcard/creditcard.parquet\")"
   ]
  },
  {
   "cell_type": "code",
   "execution_count": 17,
   "metadata": {},
   "outputs": [],
   "source": [
    "ps = pl.read_csv(\"./PS_20174392719_1491204439457_log/PS_20174392719_1491204439457_log.csv\")\n",
    "ps.write_parquet(\"./PS_20174392719_1491204439457_log/PS_20174392719_1491204439457_log.parquet\")"
   ]
  },
  {
   "cell_type": "code",
   "execution_count": null,
   "metadata": {},
   "outputs": [],
   "source": []
  }
 ],
 "metadata": {
  "kernelspec": {
   "display_name": "eda",
   "language": "python",
   "name": "python3"
  },
  "language_info": {
   "codemirror_mode": {
    "name": "ipython",
    "version": 3
   },
   "file_extension": ".py",
   "mimetype": "text/x-python",
   "name": "python",
   "nbconvert_exporter": "python",
   "pygments_lexer": "ipython3",
   "version": "3.8.19"
  }
 },
 "nbformat": 4,
 "nbformat_minor": 2
}
